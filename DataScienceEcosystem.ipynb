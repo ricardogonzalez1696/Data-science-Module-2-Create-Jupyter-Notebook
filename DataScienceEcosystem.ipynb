{
 "cells": [
  {
   "cell_type": "markdown",
   "id": "369ac358-29b8-47bf-919a-67acc5ffe74d",
   "metadata": {},
   "source": [
    "# Data Science Tools and Ecosystem"
   ]
  },
  {
   "cell_type": "markdown",
   "id": "283c9387-ffa8-49a5-9559-da7d44bde272",
   "metadata": {},
   "source": [
    "In this notebook, Data Science Tools and Ecosystem are summarized."
   ]
  },
  {
   "cell_type": "markdown",
   "id": "404e38bc-3120-4baa-8c48-165542e653af",
   "metadata": {},
   "source": [
    "__Objectives:__"
   ]
  },
  {
   "cell_type": "markdown",
   "id": "6c594052-d09e-4b76-8ba2-4edd9101d48b",
   "metadata": {
    "tags": []
   },
   "source": [
    "* List popular languages for Data Science\n",
    "* List popular libraries for Data Science\n",
    "* be able to use Data Science tools fro arithmetic computation"
   ]
  },
  {
   "cell_type": "markdown",
   "id": "09727221-9893-45a1-882d-56216b46b6c4",
   "metadata": {},
   "source": [
    "## Author"
   ]
  },
  {
   "cell_type": "markdown",
   "id": "17d086d3-7ae1-4d3a-8d79-34ffbebc376f",
   "metadata": {},
   "source": [
    "Ricardo Gonzalez"
   ]
  },
  {
   "cell_type": "markdown",
   "id": "2c1fcd35-a703-4c68-bcd9-65fe2db588f4",
   "metadata": {},
   "source": [
    "Some of the popular languages that Data Scientists use are:"
   ]
  },
  {
   "cell_type": "markdown",
   "id": "8420625f-fdab-48e5-9c82-16af7551619d",
   "metadata": {
    "tags": []
   },
   "source": [
    "1. Python\n",
    "2. R \n",
    "3. Java\n",
    "4. SQL\n",
    "5. Julia "
   ]
  },
  {
   "cell_type": "markdown",
   "id": "979ebe1b-5308-445d-91d2-efdb12e268f4",
   "metadata": {},
   "source": [
    "Some of the commonly used libraries used by Data Scientists include:"
   ]
  },
  {
   "cell_type": "markdown",
   "id": "35e91bee-3209-4b51-81aa-016476fcbb49",
   "metadata": {},
   "source": [
    "1. MatPlotlib\n",
    "2. NumPy\n",
    "3. Pandas\n",
    "4. SciPy\n",
    "5. TensorFlow"
   ]
  },
  {
   "cell_type": "markdown",
   "id": "4d9bad22-0e7e-480f-8b9d-0987e016cd39",
   "metadata": {},
   "source": [
    "| Data Science Tools |\n",
    "| -------|\n",
    "| Tableau |\n",
    "| Apache Spark |\n",
    "| TensorFlow |"
   ]
  },
  {
   "cell_type": "markdown",
   "id": "745dd36a-6b08-4cd2-b4e1-c8cb2d2a86dc",
   "metadata": {},
   "source": [
    "### Below are a few examples of evaluating arithmetic expressions in Python"
   ]
  },
  {
   "cell_type": "markdown",
   "id": "78abe4f5-e6b4-4fec-b185-3c2a03b95f57",
   "metadata": {},
   "source": [
    "This a simple arithmetic expression to mutiply then add integers"
   ]
  },
  {
   "cell_type": "code",
   "execution_count": 2,
   "id": "fbca059f-f115-4068-8fbd-7905efeeccc9",
   "metadata": {
    "tags": []
   },
   "outputs": [
    {
     "data": {
      "text/plain": [
       "17"
      ]
     },
     "execution_count": 2,
     "metadata": {},
     "output_type": "execute_result"
    }
   ],
   "source": [
    "(3*4)+5"
   ]
  },
  {
   "cell_type": "markdown",
   "id": "4df05d85-c745-4a65-97a8-9cd3e1e65065",
   "metadata": {
    "tags": []
   },
   "source": [
    "This will convert 200 minutes to hours by diving by 60"
   ]
  },
  {
   "cell_type": "code",
   "execution_count": 7,
   "id": "338c2d83-f880-43de-b2b5-c224a328161a",
   "metadata": {
    "tags": []
   },
   "outputs": [
    {
     "data": {
      "text/plain": [
       "3.3333333333333335"
      ]
     },
     "execution_count": 7,
     "metadata": {},
     "output_type": "execute_result"
    }
   ],
   "source": [
    "200 / 60 "
   ]
  },
  {
   "cell_type": "code",
   "execution_count": null,
   "id": "c8cb63c8-9d1f-401f-ae3a-b767232d9ff7",
   "metadata": {},
   "outputs": [],
   "source": []
  }
 ],
 "metadata": {
  "kernelspec": {
   "display_name": "Python",
   "language": "python",
   "name": "conda-env-python-py"
  },
  "language_info": {
   "codemirror_mode": {
    "name": "ipython",
    "version": 3
   },
   "file_extension": ".py",
   "mimetype": "text/x-python",
   "name": "python",
   "nbconvert_exporter": "python",
   "pygments_lexer": "ipython3",
   "version": "3.7.12"
  }
 },
 "nbformat": 4,
 "nbformat_minor": 5
}
